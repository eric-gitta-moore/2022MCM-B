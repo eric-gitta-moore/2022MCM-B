{
 "cells": [
  {
   "cell_type": "code",
   "execution_count": 5,
   "metadata": {
    "collapsed": true
   },
   "outputs": [
    {
     "name": "stdout",
     "output_type": "stream",
     "text": [
      "         一        二\n",
      "0  0.01499  0.02742\n",
      "1  0.01499  0.01371\n",
      "0    0.04241\n",
      "1    0.02870\n",
      "dtype: float64\n"
     ]
    }
   ],
   "source": [
    "import pandas as pd\n",
    "import numpy as np\n",
    "import math\n",
    "\n",
    "weight = [0.01499,\n",
    "          0.01371, ]\n",
    "\n",
    "\n",
    "def correcting(data):\n",
    "    return np.sum(weight * data)\n",
    "\n",
    "\n",
    "df = pd.DataFrame([[1, 2], [1, 1]], columns=['一', '二'])\n",
    "print(weight * df)\n",
    "print(np.sum(weight * df, axis=1))"
   ]
  }
 ],
 "metadata": {
  "kernelspec": {
   "display_name": "Python 3",
   "language": "python",
   "name": "python3"
  },
  "language_info": {
   "codemirror_mode": {
    "name": "ipython",
    "version": 2
   },
   "file_extension": ".py",
   "mimetype": "text/x-python",
   "name": "python",
   "nbconvert_exporter": "python",
   "pygments_lexer": "ipython2",
   "version": "2.7.6"
  }
 },
 "nbformat": 4,
 "nbformat_minor": 0
}
