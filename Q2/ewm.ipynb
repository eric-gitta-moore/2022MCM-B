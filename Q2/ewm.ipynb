{
 "cells": [
  {
   "cell_type": "code",
   "execution_count": 40,
   "metadata": {
    "collapsed": true
   },
   "outputs": [
    {
     "data": {
      "text/plain": "                         weight\n人口密度（人/平方千米）              2.747\n耕地面积                      1.077\n森林面积                     30.663\n大象致人伤亡数量                  1.497\n食草动物致人伤亡数量                1.054\n食肉动物致人伤亡数量                1.741\n营地累计数量和住宿（MMNR内部以及周边地区）  30.008\n犀牛栖息地百分比                 30.008\n放牧扩大比例                    1.205",
      "text/html": "<div>\n<style scoped>\n    .dataframe tbody tr th:only-of-type {\n        vertical-align: middle;\n    }\n\n    .dataframe tbody tr th {\n        vertical-align: top;\n    }\n\n    .dataframe thead th {\n        text-align: right;\n    }\n</style>\n<table border=\"1\" class=\"dataframe\">\n  <thead>\n    <tr style=\"text-align: right;\">\n      <th></th>\n      <th>weight</th>\n    </tr>\n  </thead>\n  <tbody>\n    <tr>\n      <th>人口密度（人/平方千米）</th>\n      <td>2.747</td>\n    </tr>\n    <tr>\n      <th>耕地面积</th>\n      <td>1.077</td>\n    </tr>\n    <tr>\n      <th>森林面积</th>\n      <td>30.663</td>\n    </tr>\n    <tr>\n      <th>大象致人伤亡数量</th>\n      <td>1.497</td>\n    </tr>\n    <tr>\n      <th>食草动物致人伤亡数量</th>\n      <td>1.054</td>\n    </tr>\n    <tr>\n      <th>食肉动物致人伤亡数量</th>\n      <td>1.741</td>\n    </tr>\n    <tr>\n      <th>营地累计数量和住宿（MMNR内部以及周边地区）</th>\n      <td>30.008</td>\n    </tr>\n    <tr>\n      <th>犀牛栖息地百分比</th>\n      <td>30.008</td>\n    </tr>\n    <tr>\n      <th>放牧扩大比例</th>\n      <td>1.205</td>\n    </tr>\n  </tbody>\n</table>\n</div>"
     },
     "execution_count": 40,
     "metadata": {},
     "output_type": "execute_result"
    }
   ],
   "source": [
    "import numpy as np\n",
    "import pandas as pd\n",
    "import math\n",
    "\n",
    "def ewm(df):\n",
    "    df = df.apply(lambda x: ((x - np.min(x)) / (np.max(x) - np.min(x))))\n",
    "    rows, cols = df.shape\n",
    "    k = 1.0 / math.log(rows)\n",
    "\n",
    "    p = df / df.sum(axis=0)\n",
    "    lnf = -np.log(p , where = df!=0 )*p*k\n",
    "\n",
    "    d = 1 - lnf.sum(axis=0)\n",
    "    w = d / d.sum()\n",
    "\n",
    "    w = pd.DataFrame(w)\n",
    "    w = w.round(5)\n",
    "    w.index = df.columns\n",
    "    w.columns =['weight']\n",
    "    return w\n",
    "\n",
    "data = pd.read_excel(r\"D:\\Users\\th\\Downloads\\B题_政策效果的量化数据.xlsx\")\n",
    "data = data.set_index('政策')\n",
    "weight = ewm(data)\n",
    "weight*100\n",
    "# weight['weight'].to_list()"
   ]
  },
  {
   "cell_type": "code",
   "execution_count": null,
   "outputs": [],
   "source": [],
   "metadata": {
    "collapsed": false
   }
  }
 ],
 "metadata": {
  "kernelspec": {
   "display_name": "Python 3",
   "language": "python",
   "name": "python3"
  },
  "language_info": {
   "codemirror_mode": {
    "name": "ipython",
    "version": 2
   },
   "file_extension": ".py",
   "mimetype": "text/x-python",
   "name": "python",
   "nbconvert_exporter": "python",
   "pygments_lexer": "ipython2",
   "version": "2.7.6"
  }
 },
 "nbformat": 4,
 "nbformat_minor": 0
}
