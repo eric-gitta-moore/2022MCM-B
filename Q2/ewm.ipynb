{
 "cells": [
  {
   "cell_type": "code",
   "execution_count": 30,
   "metadata": {
    "collapsed": true
   },
   "outputs": [
    {
     "data": {
      "text/plain": "[0.09037,\n 0.05344,\n 0.10473,\n 0.20769,\n 0.06318,\n 0.09193,\n 0.1028,\n 0.24861,\n 0.03723]"
     },
     "execution_count": 30,
     "metadata": {},
     "output_type": "execute_result"
    }
   ],
   "source": [
    "import numpy as np\n",
    "import pandas as pd\n",
    "import math\n",
    "\n",
    "def ewm(df):\n",
    "    df = df.apply(lambda x: ((x - np.min(x)) / (np.max(x) - np.min(x))))\n",
    "    rows, cols = df.shape\n",
    "    k = 1.0 / math.log(rows)\n",
    "\n",
    "    p = df / df.sum(axis=0)\n",
    "    lnf = -np.log(p , where = df!=0 )*p*k\n",
    "\n",
    "    d = 1 - lnf.sum(axis=0)\n",
    "    w = d / d.sum()\n",
    "\n",
    "    w = pd.DataFrame(w)\n",
    "    w = w.round(5)\n",
    "    w.index = df.columns\n",
    "    w.columns =['weight']\n",
    "    return w\n",
    "\n",
    "data = pd.read_excel(r\"E:\\Programing\\PycharmProjects\\2022MCM-B\\Q2\\处理数据\\政策(1)(1).xlsx\")\n",
    "# data = pd.read_excel(r\"D:\\Users\\th\\Downloads\\B题_政策效果的量化数据.xlsx\")\n",
    "data = data.set_index('政策')\n",
    "weight = ewm(data)\n",
    "# weight*100\n",
    "weight['weight'].to_list()"
   ]
  },
  {
   "cell_type": "code",
   "execution_count": null,
   "outputs": [],
   "source": [],
   "metadata": {
    "collapsed": false
   }
  }
 ],
 "metadata": {
  "kernelspec": {
   "display_name": "Python 3",
   "language": "python",
   "name": "python3"
  },
  "language_info": {
   "codemirror_mode": {
    "name": "ipython",
    "version": 2
   },
   "file_extension": ".py",
   "mimetype": "text/x-python",
   "name": "python",
   "nbconvert_exporter": "python",
   "pygments_lexer": "ipython2",
   "version": "2.7.6"
  }
 },
 "nbformat": 4,
 "nbformat_minor": 0
}
