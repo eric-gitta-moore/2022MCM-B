{
 "cells": [
  {
   "cell_type": "code",
   "execution_count": 94,
   "metadata": {
    "collapsed": true
   },
   "outputs": [
    {
     "data": {
      "text/plain": "                          weight\n人口密度（人/平方千米）             0.01499\n耕地面积                     0.01371\n森林面积                     0.42419\n大象致人伤亡数量                 0.01306\n食草动物致人伤亡数量               0.00821\n食肉动物致人伤亡数量               0.01341\n营地累计数量和住宿（MMNR内部以及周边地区）  0.00913\n犀牛栖息地百分比                 0.49140\n牛放牧扩大占比                  0.01189",
      "text/html": "<div>\n<style scoped>\n    .dataframe tbody tr th:only-of-type {\n        vertical-align: middle;\n    }\n\n    .dataframe tbody tr th {\n        vertical-align: top;\n    }\n\n    .dataframe thead th {\n        text-align: right;\n    }\n</style>\n<table border=\"1\" class=\"dataframe\">\n  <thead>\n    <tr style=\"text-align: right;\">\n      <th></th>\n      <th>weight</th>\n    </tr>\n  </thead>\n  <tbody>\n    <tr>\n      <th>人口密度（人/平方千米）</th>\n      <td>0.01499</td>\n    </tr>\n    <tr>\n      <th>耕地面积</th>\n      <td>0.01371</td>\n    </tr>\n    <tr>\n      <th>森林面积</th>\n      <td>0.42419</td>\n    </tr>\n    <tr>\n      <th>大象致人伤亡数量</th>\n      <td>0.01306</td>\n    </tr>\n    <tr>\n      <th>食草动物致人伤亡数量</th>\n      <td>0.00821</td>\n    </tr>\n    <tr>\n      <th>食肉动物致人伤亡数量</th>\n      <td>0.01341</td>\n    </tr>\n    <tr>\n      <th>营地累计数量和住宿（MMNR内部以及周边地区）</th>\n      <td>0.00913</td>\n    </tr>\n    <tr>\n      <th>犀牛栖息地百分比</th>\n      <td>0.49140</td>\n    </tr>\n    <tr>\n      <th>牛放牧扩大占比</th>\n      <td>0.01189</td>\n    </tr>\n  </tbody>\n</table>\n</div>"
     },
     "execution_count": 94,
     "metadata": {},
     "output_type": "execute_result"
    }
   ],
   "source": [
    "import numpy as np\n",
    "import pandas as pd\n",
    "import math\n",
    "\n",
    "def ewm(df):\n",
    "    df = df.apply(lambda x: ((x - np.min(x)) / (np.max(x) - np.min(x))))\n",
    "    rows, cols = df.shape\n",
    "    k = 1.0 / math.log(rows)\n",
    "\n",
    "    p = df / df.sum(axis=0)\n",
    "    lnf = -np.log(p , where = df!=0 )*p*k\n",
    "\n",
    "    d = 1 - lnf.sum(axis=0)\n",
    "    w = d / d.sum()\n",
    "\n",
    "    w = pd.DataFrame(w)\n",
    "    w = w.round(5)\n",
    "    w.index = df.columns\n",
    "    w.columns =['weight']\n",
    "    return w\n",
    "\n",
    "data = pd.read_excel(r\"E:\\Programing\\PycharmProjects\\2022MCM-B\\Q2\\处理数据\\第二问制定的政策.xlsx\")\n",
    "# data = pd.read_excel(r\"D:\\Users\\th\\Downloads\\B题_政策效果的量化数据.xlsx\")\n",
    "data = data.set_index('政策')\n",
    "weight = ewm(data)\n",
    "weight\n",
    "# weight['weight'].to_list()"
   ]
  },
  {
   "cell_type": "markdown",
   "source": [
    "# 问题2具体政策\n",
    "\n",
    "## 对于C区域 考虑\n",
    "政策1: 牛放牧扩大占比 -> 0\n",
    "政策2: 牛放牧扩大占比 -> 5\n",
    "政策3: 牛放牧扩大占比 -> 10\n",
    "\n",
    "## 对于B区域 考虑\n",
    "政策4: 犀牛栖息地百分比 -> 20\n",
    "政策5: 犀牛栖息地百分比 -> 25\n",
    "政策6: 犀牛栖息地百分比 -> 30\n",
    "政策7: 营地 -> 15\n",
    "政策8: 营地 -> 20\n",
    "政策9: 营地 -> 25\n",
    "政策10: 森林面积 -> 30000\n",
    "政策11: 森林面积 -> 35000\n",
    "政策12: 森林面积 -> 40000\n",
    "政策13: 森林面积 -> 45000\n",
    "政策14: 食草动物致人伤亡数量 -> 0\n",
    "政策15: 食草动物致人伤亡数量 -> 1\n",
    "政策16: 食肉动物致人伤亡数量 -> 0\n",
    "政策17: 食肉动物致人伤亡数量 -> 1\n",
    "\n",
    "## 对于A区域 考虑\n",
    "政策18: 大象致人伤亡数量 -> 0\n",
    "政策19: 大象致人伤亡数量 -> 1\n",
    "政策20: 大象致人伤亡数量 -> 2\n",
    "政策21: 大象致人伤亡数量 -> 3\n",
    "政策22: 人口密度 -> 60\n",
    "政策23: 人口密度 -> 55\n",
    "政策24: 人口密度 -> 50\n",
    "政策25: 人口密度 -> 50\n",
    "政策26: 人口密度 -> 40\n"
   ],
   "metadata": {
    "collapsed": false
   }
  },
  {
   "cell_type": "code",
   "execution_count": 92,
   "outputs": [],
   "source": [],
   "metadata": {
    "collapsed": false
   }
  }
 ],
 "metadata": {
  "kernelspec": {
   "display_name": "Python 3",
   "language": "python",
   "name": "python3"
  },
  "language_info": {
   "codemirror_mode": {
    "name": "ipython",
    "version": 2
   },
   "file_extension": ".py",
   "mimetype": "text/x-python",
   "name": "python",
   "nbconvert_exporter": "python",
   "pygments_lexer": "ipython2",
   "version": "2.7.6"
  }
 },
 "nbformat": 4,
 "nbformat_minor": 0
}
