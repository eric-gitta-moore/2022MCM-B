{
 "cells": [
  {
   "cell_type": "code",
   "execution_count": 67,
   "metadata": {
    "collapsed": true
   },
   "outputs": [
    {
     "data": {
      "text/plain": "[0.00689, 0.00629, 0.35295, 0.006, 0.00931, 0.0096, 0.00529, 0.39955, 0.20412]"
     },
     "execution_count": 67,
     "metadata": {},
     "output_type": "execute_result"
    }
   ],
   "source": [
    "import numpy as np\n",
    "import pandas as pd\n",
    "import math\n",
    "\n",
    "def ewm(df):\n",
    "    df = df.apply(lambda x: ((x - np.min(x)) / (np.max(x) - np.min(x))))\n",
    "    rows, cols = df.shape\n",
    "    k = 1.0 / math.log(rows)\n",
    "\n",
    "    p = df / df.sum(axis=0)\n",
    "    lnf = -np.log(p , where = df!=0 )*p*k\n",
    "\n",
    "    d = 1 - lnf.sum(axis=0)\n",
    "    w = d / d.sum()\n",
    "\n",
    "    w = pd.DataFrame(w)\n",
    "    w = w.round(5)\n",
    "    w.index = df.columns\n",
    "    w.columns =['weight']\n",
    "    return w\n",
    "\n",
    "data = pd.read_excel(r\"E:\\Programing\\PycharmProjects\\2022MCM-B\\Q2\\处理数据\\第二问制定的政策.xlsx\")\n",
    "# data = pd.read_excel(r\"D:\\Users\\th\\Downloads\\B题_政策效果的量化数据.xlsx\")\n",
    "data = data.set_index('政策')\n",
    "weight = ewm(data)\n",
    "weight*100\n",
    "weight['weight'].to_list()"
   ]
  },
  {
   "cell_type": "markdown",
   "source": [
    "# 具体政策\n",
    "\n",
    "\n",
    "牛放牧扩大占比 -> 0\n",
    "牛放牧扩大占比 -> 5\n",
    "牛放牧扩大占比 -> 15\n",
    "牛放牧扩大占比 -> 20\n",
    "\n",
    "\n",
    "犀牛栖息地百分比 -> 20\n",
    "犀牛栖息地百分比 -> 25\n",
    "犀牛栖息地百分比 -> 30\n",
    "\n",
    "\n",
    "营地 -> 15\n",
    "营地 -> 20\n",
    "营地 -> 30\n",
    "\n",
    "\n",
    "森林面积 -> 30000\n",
    "森林面积 -> 35000\n",
    "森林面积 -> 40000\n",
    "森林面积 -> 45000\n",
    "\n",
    "\n",
    "大象致人伤亡数量 -> 0\n",
    "大象致人伤亡数量 -> 1\n",
    "大象致人伤亡数量 -> 2\n",
    "大象致人伤亡数量 -> 3\n",
    "\n",
    "\n",
    "食草动物致人伤亡数量 -> 0\n",
    "食草动物致人伤亡数量 -> 1\n",
    "食草动物致人伤亡数量 -> 2\n",
    "食草动物致人伤亡数量 -> 3\n",
    "食草动物致人伤亡数量 -> 4\n",
    "食草动物致人伤亡数量 -> 5\n",
    "食草动物致人伤亡数量 -> 6\n",
    "食草动物致人伤亡数量 -> 7\n",
    "食草动物致人伤亡数量 -> 8\n",
    "\n",
    "人口密度 -> 65\n",
    "人口密度 -> 60\n",
    "人口密度 -> 55\n",
    "人口密度 -> 50\n",
    "人口密度 -> 45\n",
    "人口密度 -> 40\n"
   ],
   "metadata": {
    "collapsed": false
   }
  },
  {
   "cell_type": "code",
   "execution_count": null,
   "outputs": [],
   "source": [],
   "metadata": {
    "collapsed": false
   }
  }
 ],
 "metadata": {
  "kernelspec": {
   "display_name": "Python 3",
   "language": "python",
   "name": "python3"
  },
  "language_info": {
   "codemirror_mode": {
    "name": "ipython",
    "version": 2
   },
   "file_extension": ".py",
   "mimetype": "text/x-python",
   "name": "python",
   "nbconvert_exporter": "python",
   "pygments_lexer": "ipython2",
   "version": "2.7.6"
  }
 },
 "nbformat": 4,
 "nbformat_minor": 0
}
