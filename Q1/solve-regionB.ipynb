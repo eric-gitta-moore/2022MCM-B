{
 "cells": [
  {
   "cell_type": "code",
   "execution_count": 9,
   "outputs": [
    {
     "data": {
      "text/html": "<div>\n<style scoped>\n    .dataframe tbody tr th:only-of-type {\n        vertical-align: middle;\n    }\n\n    .dataframe tbody tr th {\n        vertical-align: top;\n    }\n\n    .dataframe thead th {\n        text-align: right;\n    }\n</style>\n<table border=\"1\" class=\"dataframe\">\n  <thead>\n    <tr style=\"text-align: right;\">\n      <th></th>\n      <th>年</th>\n      <th>人口密度（人/平方千米）</th>\n      <th>耕地面积</th>\n      <th>森林面积</th>\n      <th>大象致人伤亡数量</th>\n      <th>食草动物致人伤亡数量</th>\n      <th>食肉动物致人伤亡数量</th>\n      <th>营地累计数量和住宿（MMNR内部以及周边地区）</th>\n      <th>犀牛栖息地百分比</th>\n      <th>牛放牧扩大占比</th>\n    </tr>\n  </thead>\n  <tbody>\n    <tr>\n      <th>0</th>\n      <td>1971</td>\n      <td>15.82</td>\n      <td>9193.94</td>\n      <td>89274.32</td>\n      <td>0</td>\n      <td>0</td>\n      <td>0</td>\n      <td>1</td>\n      <td>35.0</td>\n      <td>9.0</td>\n    </tr>\n    <tr>\n      <th>1</th>\n      <td>1972</td>\n      <td>16.10</td>\n      <td>9898.26</td>\n      <td>89100.47</td>\n      <td>0</td>\n      <td>0</td>\n      <td>0</td>\n      <td>1</td>\n      <td>35.7</td>\n      <td>9.1</td>\n    </tr>\n    <tr>\n      <th>2</th>\n      <td>1973</td>\n      <td>19.50</td>\n      <td>10911.67</td>\n      <td>84540.76</td>\n      <td>0</td>\n      <td>0</td>\n      <td>0</td>\n      <td>1</td>\n      <td>35.3</td>\n      <td>9.1</td>\n    </tr>\n    <tr>\n      <th>3</th>\n      <td>1974</td>\n      <td>19.68</td>\n      <td>10801.35</td>\n      <td>83303.77</td>\n      <td>0</td>\n      <td>0</td>\n      <td>0</td>\n      <td>1</td>\n      <td>34.0</td>\n      <td>9.3</td>\n    </tr>\n    <tr>\n      <th>4</th>\n      <td>1975</td>\n      <td>20.41</td>\n      <td>12312.00</td>\n      <td>85281.00</td>\n      <td>0</td>\n      <td>0</td>\n      <td>0</td>\n      <td>3</td>\n      <td>33.6</td>\n      <td>9.6</td>\n    </tr>\n    <tr>\n      <th>5</th>\n      <td>1976</td>\n      <td>23.39</td>\n      <td>11472.47</td>\n      <td>79465.74</td>\n      <td>0</td>\n      <td>0</td>\n      <td>0</td>\n      <td>3</td>\n      <td>33.0</td>\n      <td>9.5</td>\n    </tr>\n    <tr>\n      <th>6</th>\n      <td>1977</td>\n      <td>26.63</td>\n      <td>11838.97</td>\n      <td>75772.09</td>\n      <td>0</td>\n      <td>0</td>\n      <td>0</td>\n      <td>3</td>\n      <td>32.0</td>\n      <td>9.8</td>\n    </tr>\n    <tr>\n      <th>7</th>\n      <td>1978</td>\n      <td>28.45</td>\n      <td>12635.86</td>\n      <td>72695.70</td>\n      <td>0</td>\n      <td>0</td>\n      <td>0</td>\n      <td>3</td>\n      <td>31.7</td>\n      <td>9.7</td>\n    </tr>\n    <tr>\n      <th>8</th>\n      <td>1979</td>\n      <td>26.00</td>\n      <td>15721.21</td>\n      <td>72952.16</td>\n      <td>0</td>\n      <td>0</td>\n      <td>0</td>\n      <td>3</td>\n      <td>31.2</td>\n      <td>10.0</td>\n    </tr>\n    <tr>\n      <th>9</th>\n      <td>1980</td>\n      <td>30.46</td>\n      <td>14593.85</td>\n      <td>71764.92</td>\n      <td>0</td>\n      <td>0</td>\n      <td>0</td>\n      <td>10</td>\n      <td>31.0</td>\n      <td>10.8</td>\n    </tr>\n    <tr>\n      <th>10</th>\n      <td>1981</td>\n      <td>31.42</td>\n      <td>18003.02</td>\n      <td>66135.61</td>\n      <td>0</td>\n      <td>0</td>\n      <td>0</td>\n      <td>10</td>\n      <td>30.0</td>\n      <td>11.0</td>\n    </tr>\n    <tr>\n      <th>11</th>\n      <td>1982</td>\n      <td>35.82</td>\n      <td>20086.34</td>\n      <td>63588.85</td>\n      <td>0</td>\n      <td>0</td>\n      <td>0</td>\n      <td>10</td>\n      <td>29.0</td>\n      <td>10.5</td>\n    </tr>\n    <tr>\n      <th>12</th>\n      <td>1983</td>\n      <td>36.49</td>\n      <td>17231.00</td>\n      <td>58213.00</td>\n      <td>0</td>\n      <td>0</td>\n      <td>0</td>\n      <td>10</td>\n      <td>27.0</td>\n      <td>10.0</td>\n    </tr>\n    <tr>\n      <th>13</th>\n      <td>1984</td>\n      <td>34.47</td>\n      <td>20788.59</td>\n      <td>60870.49</td>\n      <td>0</td>\n      <td>0</td>\n      <td>0</td>\n      <td>10</td>\n      <td>28.5</td>\n      <td>9.3</td>\n    </tr>\n    <tr>\n      <th>14</th>\n      <td>1985</td>\n      <td>34.62</td>\n      <td>25165.63</td>\n      <td>57658.41</td>\n      <td>0</td>\n      <td>0</td>\n      <td>0</td>\n      <td>11</td>\n      <td>27.4</td>\n      <td>9.7</td>\n    </tr>\n    <tr>\n      <th>15</th>\n      <td>1986</td>\n      <td>36.42</td>\n      <td>26729.92</td>\n      <td>56939.05</td>\n      <td>0</td>\n      <td>0</td>\n      <td>0</td>\n      <td>11</td>\n      <td>28.0</td>\n      <td>10.0</td>\n    </tr>\n    <tr>\n      <th>16</th>\n      <td>1987</td>\n      <td>43.42</td>\n      <td>30190.36</td>\n      <td>52891.30</td>\n      <td>0</td>\n      <td>1</td>\n      <td>0</td>\n      <td>11</td>\n      <td>27.4</td>\n      <td>10.4</td>\n    </tr>\n    <tr>\n      <th>17</th>\n      <td>1988</td>\n      <td>46.24</td>\n      <td>29090.94</td>\n      <td>51225.84</td>\n      <td>1</td>\n      <td>0</td>\n      <td>0</td>\n      <td>11</td>\n      <td>26.9</td>\n      <td>11.3</td>\n    </tr>\n    <tr>\n      <th>18</th>\n      <td>1989</td>\n      <td>47.00</td>\n      <td>37507.13</td>\n      <td>49637.19</td>\n      <td>1</td>\n      <td>1</td>\n      <td>1</td>\n      <td>11</td>\n      <td>26.3</td>\n      <td>11.9</td>\n    </tr>\n    <tr>\n      <th>19</th>\n      <td>1990</td>\n      <td>44.77</td>\n      <td>41603.04</td>\n      <td>47192.71</td>\n      <td>1</td>\n      <td>1</td>\n      <td>1</td>\n      <td>14</td>\n      <td>25.0</td>\n      <td>12.0</td>\n    </tr>\n    <tr>\n      <th>20</th>\n      <td>1991</td>\n      <td>48.91</td>\n      <td>45505.68</td>\n      <td>45137.19</td>\n      <td>2</td>\n      <td>1</td>\n      <td>1</td>\n      <td>14</td>\n      <td>24.0</td>\n      <td>13.0</td>\n    </tr>\n    <tr>\n      <th>21</th>\n      <td>1992</td>\n      <td>49.90</td>\n      <td>50414.83</td>\n      <td>41287.62</td>\n      <td>3</td>\n      <td>2</td>\n      <td>1</td>\n      <td>14</td>\n      <td>24.7</td>\n      <td>13.2</td>\n    </tr>\n    <tr>\n      <th>22</th>\n      <td>1993</td>\n      <td>51.64</td>\n      <td>52611.64</td>\n      <td>40979.90</td>\n      <td>3</td>\n      <td>2</td>\n      <td>1</td>\n      <td>14</td>\n      <td>24.3</td>\n      <td>13.7</td>\n    </tr>\n    <tr>\n      <th>23</th>\n      <td>1994</td>\n      <td>47.75</td>\n      <td>65213.00</td>\n      <td>39802.00</td>\n      <td>3</td>\n      <td>2</td>\n      <td>1</td>\n      <td>14</td>\n      <td>23.3</td>\n      <td>13.9</td>\n    </tr>\n    <tr>\n      <th>24</th>\n      <td>1995</td>\n      <td>53.58</td>\n      <td>65773.87</td>\n      <td>35029.89</td>\n      <td>3</td>\n      <td>2</td>\n      <td>1</td>\n      <td>20</td>\n      <td>22.1</td>\n      <td>14.2</td>\n    </tr>\n    <tr>\n      <th>25</th>\n      <td>1996</td>\n      <td>57.62</td>\n      <td>91731.00</td>\n      <td>28719.00</td>\n      <td>3</td>\n      <td>1</td>\n      <td>2</td>\n      <td>20</td>\n      <td>21.0</td>\n      <td>14.0</td>\n    </tr>\n    <tr>\n      <th>26</th>\n      <td>1997</td>\n      <td>55.63</td>\n      <td>89960.17</td>\n      <td>31023.15</td>\n      <td>3</td>\n      <td>1</td>\n      <td>3</td>\n      <td>20</td>\n      <td>20.0</td>\n      <td>14.8</td>\n    </tr>\n    <tr>\n      <th>27</th>\n      <td>1998</td>\n      <td>62.39</td>\n      <td>105058.29</td>\n      <td>27556.16</td>\n      <td>4</td>\n      <td>2</td>\n      <td>4</td>\n      <td>20</td>\n      <td>19.0</td>\n      <td>15.4</td>\n    </tr>\n    <tr>\n      <th>28</th>\n      <td>1999</td>\n      <td>59.00</td>\n      <td>123295.48</td>\n      <td>25832.71</td>\n      <td>4</td>\n      <td>1</td>\n      <td>5</td>\n      <td>20</td>\n      <td>18.7</td>\n      <td>16.6</td>\n    </tr>\n    <tr>\n      <th>29</th>\n      <td>2000</td>\n      <td>65.02</td>\n      <td>112797.00</td>\n      <td>26981.00</td>\n      <td>4</td>\n      <td>1</td>\n      <td>8</td>\n      <td>23</td>\n      <td>18.0</td>\n      <td>17.0</td>\n    </tr>\n  </tbody>\n</table>\n</div>",
      "text/plain": "       年  人口密度（人/平方千米）       耕地面积      森林面积  大象致人伤亡数量  食草动物致人伤亡数量  食肉动物致人伤亡数量  \\\n0   1971         15.82    9193.94  89274.32         0           0           0   \n1   1972         16.10    9898.26  89100.47         0           0           0   \n2   1973         19.50   10911.67  84540.76         0           0           0   \n3   1974         19.68   10801.35  83303.77         0           0           0   \n4   1975         20.41   12312.00  85281.00         0           0           0   \n5   1976         23.39   11472.47  79465.74         0           0           0   \n6   1977         26.63   11838.97  75772.09         0           0           0   \n7   1978         28.45   12635.86  72695.70         0           0           0   \n8   1979         26.00   15721.21  72952.16         0           0           0   \n9   1980         30.46   14593.85  71764.92         0           0           0   \n10  1981         31.42   18003.02  66135.61         0           0           0   \n11  1982         35.82   20086.34  63588.85         0           0           0   \n12  1983         36.49   17231.00  58213.00         0           0           0   \n13  1984         34.47   20788.59  60870.49         0           0           0   \n14  1985         34.62   25165.63  57658.41         0           0           0   \n15  1986         36.42   26729.92  56939.05         0           0           0   \n16  1987         43.42   30190.36  52891.30         0           1           0   \n17  1988         46.24   29090.94  51225.84         1           0           0   \n18  1989         47.00   37507.13  49637.19         1           1           1   \n19  1990         44.77   41603.04  47192.71         1           1           1   \n20  1991         48.91   45505.68  45137.19         2           1           1   \n21  1992         49.90   50414.83  41287.62         3           2           1   \n22  1993         51.64   52611.64  40979.90         3           2           1   \n23  1994         47.75   65213.00  39802.00         3           2           1   \n24  1995         53.58   65773.87  35029.89         3           2           1   \n25  1996         57.62   91731.00  28719.00         3           1           2   \n26  1997         55.63   89960.17  31023.15         3           1           3   \n27  1998         62.39  105058.29  27556.16         4           2           4   \n28  1999         59.00  123295.48  25832.71         4           1           5   \n29  2000         65.02  112797.00  26981.00         4           1           8   \n\n    营地累计数量和住宿（MMNR内部以及周边地区）  犀牛栖息地百分比  牛放牧扩大占比  \n0                         1      35.0      9.0  \n1                         1      35.7      9.1  \n2                         1      35.3      9.1  \n3                         1      34.0      9.3  \n4                         3      33.6      9.6  \n5                         3      33.0      9.5  \n6                         3      32.0      9.8  \n7                         3      31.7      9.7  \n8                         3      31.2     10.0  \n9                        10      31.0     10.8  \n10                       10      30.0     11.0  \n11                       10      29.0     10.5  \n12                       10      27.0     10.0  \n13                       10      28.5      9.3  \n14                       11      27.4      9.7  \n15                       11      28.0     10.0  \n16                       11      27.4     10.4  \n17                       11      26.9     11.3  \n18                       11      26.3     11.9  \n19                       14      25.0     12.0  \n20                       14      24.0     13.0  \n21                       14      24.7     13.2  \n22                       14      24.3     13.7  \n23                       14      23.3     13.9  \n24                       20      22.1     14.2  \n25                       20      21.0     14.0  \n26                       20      20.0     14.8  \n27                       20      19.0     15.4  \n28                       20      18.7     16.6  \n29                       23      18.0     17.0  "
     },
     "execution_count": 9,
     "metadata": {},
     "output_type": "execute_result"
    }
   ],
   "source": [
    "import pandas as pd\n",
    "\n",
    "df = pd.read_excel('MCMB数据[solve-regionB].xlsx')\n",
    "df"
   ],
   "metadata": {
    "collapsed": false
   }
  },
  {
   "cell_type": "code",
   "execution_count": 48,
   "metadata": {
    "collapsed": true
   },
   "outputs": [
    {
     "name": "stdout",
     "output_type": "stream",
     "text": [
      "{'第2000年营地': 23.0, '第2000年牛放牧扩大占比': 17.0, '第2000年犀牛栖息地百分比': 18.0, 'at': 10, 'bt': 21, 'sum1948-2000(ci/bi)': 76.02553497600856}\n",
      "     fun: 0.999908396753208\n",
      "     jac: array([ 9.15899873e-05,  0.00000000e+00, -9.16048884e-05])\n",
      " message: 'Optimization terminated successfully'\n",
      "    nfev: 8\n",
      "     nit: 2\n",
      "    njev: 2\n",
      "  status: 0\n",
      " success: True\n",
      "       x: array([13.        ,  2.63555249,  3.00888631])\n"
     ]
    }
   ],
   "source": [
    "from scipy.optimize import minimize\n",
    "import numpy as np\n",
    "import math\n",
    "\n",
    "\n",
    "def getFun(args):\n",
    "    k1, k2, k3 = args\n",
    "    fun1 = lambda x: k3 * math.exp(x[2])\n",
    "    fun2 = lambda x: k1 * math.exp(x[0]) + k2 * math.exp(x[1])\n",
    "\n",
    "    f = lambda x: -(fun1(x) / (fun1(x) + fun2(x)) - fun2(x) / (fun1(x) + fun2(x)))\n",
    "    return f\n",
    "\n",
    "\n",
    "def getCon(args):\n",
    "    argsKey = list(args.keys())\n",
    "    x1max = args['第2000年营地'] # A\n",
    "    x1min = x1max - args['at']\n",
    "\n",
    "    x2max = args['第2000年牛放牧扩大占比'] # B\n",
    "    x2min = x2max - args['bt']\n",
    "\n",
    "    x3min = 0 # C\n",
    "    x3max = 17\n",
    "    cons = (\n",
    "        {'type': 'ineq', 'fun': lambda x: x[0] - x1min},\n",
    "        {'type': 'ineq', 'fun': lambda x: -x[0] + x1max},\n",
    "\n",
    "        {'type': 'ineq', 'fun': lambda x: x[1] - x2min},\n",
    "        {'type': 'ineq', 'fun': lambda x: -x[1] + x2max},\n",
    "\n",
    "        {'type': 'ineq', 'fun': lambda x: x[2] - x3min},\n",
    "        {'type': 'ineq', 'fun': lambda x: -x[2] + x3max},\n",
    "\n",
    "        {'type': 'ineq', 'fun': lambda x: (args['第2000年犀牛栖息地百分比'] + x[2]) / (args['第2000年牛放牧扩大占比'] - x[1]) -\n",
    "                                          args['sum1948-2000(ci/bi)'] / (2000 - 1948 + 1)},\n",
    "    )\n",
    "    return cons\n",
    "\n",
    "\n",
    "# k1, k2, k3\n",
    "argsK = (1, 1, 1)\n",
    "\n",
    "search2000 = df.query('年 == 2000')\n",
    "year2000 = search2000.loc[search2000.index.values[0]].to_dict()\n",
    "sum19482000cibi = 0\n",
    "for i, row in df.iterrows():\n",
    "    sum19482000cibi += row['犀牛栖息地百分比'] / row['牛放牧扩大占比']\n",
    "\n",
    "argsCon = {\n",
    "    '第2000年营地': year2000['营地累计数量和住宿（MMNR内部以及周边地区）'], # A\n",
    "    '第2000年牛放牧扩大占比': year2000['牛放牧扩大占比'], # B\n",
    "    '第2000年犀牛栖息地百分比': year2000['犀牛栖息地百分比'], # C\n",
    "    'at':10,\n",
    "    'bt':21,\n",
    "    'sum1948-2000(ci/bi)': sum19482000cibi\n",
    "}\n",
    "print(argsCon)\n",
    "\n",
    "# 变量初始值\n",
    "x0 = np.asarray((1, 1, 1))\n",
    "res = minimize(getFun(argsK), x0, constraints=getCon(argsCon))\n",
    "\n",
    "print(res)"
   ]
  },
  {
   "cell_type": "markdown",
   "source": [],
   "metadata": {
    "collapsed": false
   }
  },
  {
   "cell_type": "markdown",
   "source": [
    "# 第一问区域B求解结果\n",
    "x1 = 13.00\n",
    "x2 = 2.64\n",
    "x3 = 3.00\n",
    "\n",
    "因此针对于2000年：\n",
    "\n",
    "对于B区域，应该采取如下方案：\n",
    "1. 减少13.00%的营地\n",
    "2. 减少2.64%的放牧\n",
    "3. 增加3.00%的犀牛栖息地"
   ],
   "metadata": {
    "collapsed": false
   }
  },
  {
   "cell_type": "code",
   "execution_count": null,
   "outputs": [],
   "source": [],
   "metadata": {
    "collapsed": false
   }
  }
 ],
 "metadata": {
  "kernelspec": {
   "name": "xpython",
   "language": "python",
   "display_name": "Python 3.10 (XPython)"
  },
  "language_info": {
   "codemirror_mode": {
    "name": "ipython",
    "version": 2
   },
   "file_extension": ".py",
   "mimetype": "text/x-python",
   "name": "python",
   "nbconvert_exporter": "python",
   "pygments_lexer": "ipython2",
   "version": "2.7.6"
  }
 },
 "nbformat": 4,
 "nbformat_minor": 0
}
