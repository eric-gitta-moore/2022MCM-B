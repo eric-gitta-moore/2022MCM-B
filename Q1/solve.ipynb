{
 "cells": [
  {
   "cell_type": "code",
   "execution_count": 71,
   "outputs": [
    {
     "data": {
      "text/plain": "{'年': 2000.0,\n '人口密度（人/平方千米）': 65.02,\n '耕地面积': 112797.0,\n '森林面积': 26981.0,\n '大象致人伤亡数量': 4.0,\n '食草动物致人伤亡数量': 1.0,\n '食肉动物致人伤亡数量': 8.0,\n '营地累计数量和住宿（MMNR内部以及周边地区）': 23.0,\n '犀牛栖息地百分比': 18.0,\n '牛放牧扩大占比': 17.0}"
     },
     "execution_count": 71,
     "metadata": {},
     "output_type": "execute_result"
    }
   ],
   "source": [
    "import pandas as pd\n",
    "\n",
    "df = pd.read_excel('../数据/MCMB数据.xlsx')\n",
    "df.query('年 == 2000')['人口密度（人/平方千米）']\n",
    "# print(test[test.index[0]])"
   ],
   "metadata": {
    "collapsed": false
   }
  },
  {
   "cell_type": "code",
   "execution_count": 115,
   "metadata": {
    "collapsed": true
   },
   "outputs": [
    {
     "name": "stdout",
     "output_type": "stream",
     "text": [
      "{'第2000年人口': 65.02, '第2000年耕地': 112797.0, '第2000年森林': 26981.0, 'sum1948-2000(bi/ai)': 94926.16360342082}\n"
     ]
    },
    {
     "name": "stderr",
     "output_type": "stream",
     "text": [
      "D:/Users/th/AppData/Local/Temp/xpython_73860/3469422590.py:35: RuntimeWarning: divide by zero encountered in double_scalars\n",
      "  {'type': 'ineq', 'fun': lambda x: (args[argsKey[1]] - x[1]) / (args[argsKey[0]] - x[0]) -\n",
      "D:\\Users\\th\\.conda\\envs\\py310\\lib\\site-packages\\scipy\\optimize\\_numdiff.py:576: RuntimeWarning: invalid value encountered in subtract\n",
      "  df = fun(x) - f0\n"
     ]
    },
    {
     "name": "stdout",
     "output_type": "stream",
     "text": [
      "     fun: 1.0689859184561579\n",
      "     jac: array([ 0.00426739,  0.00426739, -0.0042928 ])\n",
      " message: 'Singular matrix E in LSQ subproblem'\n",
      "    nfev: 98\n",
      "     nit: 20\n",
      "    njev: 20\n",
      "  status: 5\n",
      " success: False\n",
      "       x: array([ 65.02      ,  72.2280365 , 153.06053328])\n"
     ]
    }
   ],
   "source": [
    "from scipy.optimize import minimize\n",
    "import numpy as np\n",
    "import math\n",
    "\n",
    "\n",
    "def getFun(args):\n",
    "    k1, k2, k3 = args\n",
    "    fun1 = lambda x: k3 * x[2]\n",
    "    fun2 = lambda x: (k1 * x[0] + k2 * x[1]) ** 2 - (k3 * x[2]) ** 2\n",
    "\n",
    "    f = lambda x: -(fun1(x) / (fun1(x) + fun2(x)) - fun2(x) / (fun1(x) + fun2(x)))\n",
    "    return f\n",
    "\n",
    "\n",
    "def getCon(args):\n",
    "    argsKey = list(args.keys())\n",
    "    x1min = 0\n",
    "    x1max = args[argsKey[0]]\n",
    "\n",
    "    x2min = 0\n",
    "    x2max = args[argsKey[1]]\n",
    "\n",
    "    x3min = 0\n",
    "    x3max = args[argsKey[2]]\n",
    "    cons = (\n",
    "        {'type': 'ineq', 'fun': lambda x: x[0] - x1min},\n",
    "        {'type': 'ineq', 'fun': lambda x: -x[0] + x1max},\n",
    "\n",
    "        {'type': 'ineq', 'fun': lambda x: x[1] - x2min},\n",
    "        {'type': 'ineq', 'fun': lambda x: -x[1] + x2max},\n",
    "\n",
    "        {'type': 'ineq', 'fun': lambda x: x[2] - x3min},\n",
    "        {'type': 'ineq', 'fun': lambda x: -x[2] + x3max},\n",
    "\n",
    "        {'type': 'ineq', 'fun': lambda x: (args[argsKey[1]] - x[1]) / (args[argsKey[0]] - x[0]) -\n",
    "                                          args[argsKey[3]] / (2000 - 1948 + 1)},\n",
    "    )\n",
    "    return cons\n",
    "\n",
    "\n",
    "# k1, k2, k3\n",
    "argsK = (1, 1, 1)\n",
    "\n",
    "search2000 = df.query('年 == 2000')\n",
    "year2000 = search2000.loc[search2000.index.values[0]].to_dict()\n",
    "sum19482000biai = 0\n",
    "for i, row in df.iterrows():\n",
    "    sum19482000biai += row['耕地面积'] / row['人口密度（人/平方千米）']\n",
    "\n",
    "argsCon = {\n",
    "    '第2000年人口': year2000['人口密度（人/平方千米）'],\n",
    "    '第2000年耕地': year2000['耕地面积'],\n",
    "    '第2000年森林': year2000['森林面积'],\n",
    "    'sum1948-2000(bi/ai)': sum19482000biai\n",
    "}\n",
    "print(argsCon)\n",
    "\n",
    "# 变量初始值\n",
    "x0 = np.asarray((1, 1, 1))\n",
    "res = minimize(getFun(argsK), x0, constraints=getCon(argsCon))\n",
    "\n",
    "print(res)"
   ]
  },
  {
   "cell_type": "code",
   "execution_count": null,
   "outputs": [],
   "source": [],
   "metadata": {
    "collapsed": false
   }
  }
 ],
 "metadata": {
  "kernelspec": {
   "name": "xpython",
   "language": "python",
   "display_name": "Python 3.10 (XPython)"
  },
  "language_info": {
   "codemirror_mode": {
    "name": "ipython",
    "version": 2
   },
   "file_extension": ".py",
   "mimetype": "text/x-python",
   "name": "python",
   "nbconvert_exporter": "python",
   "pygments_lexer": "ipython2",
   "version": "2.7.6"
  }
 },
 "nbformat": 4,
 "nbformat_minor": 0
}
